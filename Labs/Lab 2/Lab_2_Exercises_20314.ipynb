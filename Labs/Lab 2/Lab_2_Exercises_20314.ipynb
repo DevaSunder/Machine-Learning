{
 "cells": [
  {
   "cell_type": "markdown",
   "metadata": {
    "id": "chcMMiJKcqyJ"
   },
   "source": [
    "# **19CSE305: MACHINE LEARNING LAB 2**"
   ]
  },
  {
   "cell_type": "markdown",
   "metadata": {
    "id": "0Q-TStVVdFaA"
   },
   "source": [
    "ROLL NUMBER: CB.EN.U4CSE20314"
   ]
  },
  {
   "cell_type": "markdown",
   "metadata": {
    "id": "-7EeRdSAGbw3"
   },
   "source": [
    "## Python Basic Exercises\n",
    "\n",
    "1. Get the values P,t,R from user and calculate compound interest. Formula to calculate compound interest annually is given by: \n",
    "        A = P(1+R/100)*t\n",
    "        CI = A – P\n",
    "        Input : Principle, Time, Rate\n",
    "        Output : Compound Interest\n",
    "2. Given a list of strings (Entered by the user), write program to get a percentage share of each word in the strings list.\n",
    "        percentage = (Occurrence of a word / Total words) * 100\n",
    "3. Check if  the binary representation of a number is Palindrome or not. Given an integer ‘n’ (entered by the user), write a Python function that returns true if binary representation of 'x' is palindrome and false if not.\n",
    "4. Write a program to check if all digits of a number divide it. Given a number n (entered by the user), find whether all digits of n divide it or not.\n",
    "5. Given a list of numbers (entered by the user), write a program to find the second largest number in that list.\n",
    "        Input: [1, 2, 3, 4 ,5]\n",
    "        Output: 4"
   ]
  },
  {
   "cell_type": "markdown",
   "metadata": {
    "id": "Q3Ba9vORIPW4"
   },
   "source": [
    "## Numpy Basic Exercises\n",
    "\n",
    "1. Create a 3D array of shape 4*5*2 that contains random decimal numbers between 1 and 10.\n",
    "2. Create a randomly created 1D array and Convert it to a 2D array with 2 rows.\n",
    "3. Given a NumPy array of temperature values, convert the values of Centigrade degrees into Fahrenheit degrees. \n",
    "4. Write a NumPy program to count the number of dimensions, number of elements and number of bytes for each element in a given array.\n",
    "5. Write a NumPy program to extract third and second elements of the first and second rows from a given (3x4) array"
   ]
  },
  {
   "cell_type": "markdown",
   "metadata": {},
   "source": [
    "##Python Basic Exercises"
   ]
  },
  {
   "cell_type": "markdown",
   "metadata": {},
   "source": [
    "1."
   ]
  },
  {
   "cell_type": "code",
   "execution_count": 4,
   "metadata": {},
   "outputs": [
    {
     "name": "stdout",
     "output_type": "stream",
     "text": [
      "1000\n",
      "100\n",
      "10\n",
      "Compound Interest for the P=1000 T=100 R=10 is 13779612.339822382\n"
     ]
    }
   ],
   "source": [
    "P=int(input())\n",
    "t=int(input())\n",
    "R=int(input())\n",
    "A=P*((1+R/100))**t\n",
    "CI=A-P\n",
    "print(f\"Compound Interest for the P={P} T={t} R={R} is {CI}\")"
   ]
  },
  {
   "cell_type": "markdown",
   "metadata": {},
   "source": [
    "# 2\n"
   ]
  },
  {
   "cell_type": "code",
   "execution_count": 58,
   "metadata": {},
   "outputs": [
    {
     "name": "stdout",
     "output_type": "stream",
     "text": [
      "Hi guys i am Devasunder Hi\n",
      "['Hi', 'guys', 'i', 'am', 'Devasunder', 'Hi']\n",
      "The percentage of Hi is 33.33333333333333\n",
      "The percentage of guys is 16.666666666666664\n",
      "The percentage of i is 16.666666666666664\n",
      "The percentage of am is 16.666666666666664\n",
      "The percentage of Devasunder is 16.666666666666664\n",
      "The percentage of Hi is 33.33333333333333\n"
     ]
    }
   ],
   "source": [
    "str1=str(input())\n",
    "x=str.split(str1)\n",
    "print(x)\n",
    "count=0\n",
    "for i in range(len(x)):\n",
    "    count=0\n",
    "    for j in range(len(x)):\n",
    "        if(x[i]==x[j]):\n",
    "            count=count+1\n",
    "    print(f'The percentage of {x[i]} is {(count/len(x))*100}')"
   ]
  },
  {
   "cell_type": "markdown",
   "metadata": {},
   "source": [
    "# 3"
   ]
  },
  {
   "cell_type": "code",
   "execution_count": 16,
   "metadata": {},
   "outputs": [
    {
     "name": "stdout",
     "output_type": "stream",
     "text": [
      "33\n",
      "The binary represenation is 0b100001\n",
      "Its a palindrome\n"
     ]
    }
   ],
   "source": [
    "import math\n",
    "num= int(input())\n",
    "x= bin(num)\n",
    "k=0\n",
    "st=''\n",
    "st=st+x\n",
    "st=st[2:]\n",
    "print(f'The binary represenation is {x}')\n",
    "for i in range(int((len(st)/2))):\n",
    "    if(st[i]==st[len(st)-1-i]):\n",
    "        pass\n",
    "    else:\n",
    "        k=1\n",
    "        print('Not a palindrome')\n",
    "if (k==0):\n",
    "    print(\"Its a palindrome\")"
   ]
  },
  {
   "cell_type": "markdown",
   "metadata": {},
   "source": [
    "# 4\n"
   ]
  },
  {
   "cell_type": "code",
   "execution_count": 55,
   "metadata": {},
   "outputs": [
    {
     "name": "stdout",
     "output_type": "stream",
     "text": [
      "99\n",
      "dividable\n"
     ]
    }
   ],
   "source": [
    "import string\n",
    "num=int(input())\n",
    "x=str(num)\n",
    "sup=0\n",
    "for i in range(len(x)):\n",
    "    if(int(x[i])==0):\n",
    "        print(\"Not dividable\")\n",
    "        break\n",
    "    elif(num%int(x[i])==0):\n",
    "        pass\n",
    "    else:\n",
    "        print(\"Not dividable\")\n",
    "        sup=1\n",
    "if (sup==0):\n",
    "    print(\"dividable\")"
   ]
  },
  {
   "cell_type": "markdown",
   "metadata": {},
   "source": [
    "# 5\n"
   ]
  },
  {
   "cell_type": "code",
   "execution_count": 39,
   "metadata": {},
   "outputs": [
    {
     "name": "stdout",
     "output_type": "stream",
     "text": [
      "Enter the number of elements:\n",
      "6\n",
      "10\n",
      "5\n",
      "60\n",
      "25\n",
      "46\n",
      "85\n",
      "[10, 5, 60, 25, 46, 85]\n",
      "85\n",
      "0\n",
      "1\n",
      "2\n",
      "3\n",
      "4\n",
      "5\n",
      "The second maximum is 60\n"
     ]
    }
   ],
   "source": [
    "import math\n",
    "lst=[]\n",
    "print(\"Enter the number of elements:\")\n",
    "x=int(input())\n",
    "for i in range(x):\n",
    "    lst.append(int(input()))\n",
    "print(lst)\n",
    "mx=max(lst)\n",
    "print(mx)\n",
    "for i in range(len(lst)):\n",
    "    print(i)\n",
    "    if(lst[i]==mx):\n",
    "        lst[i]=0\n",
    "mx=max(lst)\n",
    "print(f'The second maximum is {mx}')"
   ]
  },
  {
   "cell_type": "markdown",
   "metadata": {},
   "source": [
    "# Numpy basic exercises"
   ]
  },
  {
   "cell_type": "markdown",
   "metadata": {},
   "source": [
    "1"
   ]
  },
  {
   "cell_type": "code",
   "execution_count": 77,
   "metadata": {},
   "outputs": [
    {
     "name": "stdout",
     "output_type": "stream",
     "text": [
      "[[[6 1]\n",
      "  [6 4]\n",
      "  [2 9]\n",
      "  [6 4]\n",
      "  [5 1]]\n",
      "\n",
      " [[2 9]\n",
      "  [5 4]\n",
      "  [8 9]\n",
      "  [2 5]\n",
      "  [2 7]]\n",
      "\n",
      " [[5 9]\n",
      "  [2 3]\n",
      "  [2 6]\n",
      "  [9 5]\n",
      "  [4 6]]\n",
      "\n",
      " [[2 5]\n",
      "  [6 7]\n",
      "  [2 5]\n",
      "  [4 4]\n",
      "  [7 7]]]\n"
     ]
    }
   ],
   "source": [
    "import numpy as np\n",
    "darr = np.random.randint(1, 10, size=(4, 5, 2))\n",
    "print(darr)"
   ]
  },
  {
   "cell_type": "markdown",
   "metadata": {},
   "source": [
    "# 2"
   ]
  },
  {
   "cell_type": "code",
   "execution_count": 62,
   "metadata": {},
   "outputs": [
    {
     "name": "stdout",
     "output_type": "stream",
     "text": [
      "[50 10 30 40]\n",
      "[[50 10]\n",
      " [30 40]]\n"
     ]
    }
   ],
   "source": [
    "import numpy as np\n",
    "list2=[50,10,30,40]\n",
    "x=np.array(list2)\n",
    "print(x)\n",
    "y=np.reshape(x,(2,2))\n",
    "print(y)"
   ]
  },
  {
   "cell_type": "markdown",
   "metadata": {},
   "source": [
    "# 3"
   ]
  },
  {
   "cell_type": "code",
   "execution_count": null,
   "metadata": {},
   "outputs": [],
   "source": [
    "import numpy as np\n",
    "cent=[32,35,37,40]\n",
    "c=np.array(cent)\n",
    "print(c)\n",
    "print(np.round((9*c/5 + 32),2))"
   ]
  },
  {
   "cell_type": "markdown",
   "metadata": {},
   "source": [
    "# 4"
   ]
  },
  {
   "cell_type": "code",
   "execution_count": 2,
   "metadata": {},
   "outputs": [
    {
     "ename": "SyntaxError",
     "evalue": "f-string: invalid syntax (1731945938.py, line 5)",
     "output_type": "error",
     "traceback": [
      "\u001b[1;36m  Input \u001b[1;32mIn [2]\u001b[1;36m\u001b[0m\n\u001b[1;33m    print(f'number of bytes of each element are {x1[].itemsize}.')\u001b[0m\n\u001b[1;37m    ^\u001b[0m\n\u001b[1;31mSyntaxError\u001b[0m\u001b[1;31m:\u001b[0m f-string: invalid syntax\n"
     ]
    }
   ],
   "source": [
    "x1=np.array([[20,10,30,50],[40,20,30,10]])\n",
    "print(f'Number of dimensions are {x1.ndim}')\n",
    "print(f'Number of elements are {x1.size}')\n",
    "for i in range(x1.size-1):\n",
    "    print(f'number of bytes of each element are {x1[].itemsize}.')\n",
    "\n",
    "\n"
   ]
  },
  {
   "cell_type": "markdown",
   "metadata": {},
   "source": [
    "# 5"
   ]
  },
  {
   "cell_type": "code",
   "execution_count": 3,
   "metadata": {},
   "outputs": [
    {
     "ename": "NameError",
     "evalue": "name 'np' is not defined",
     "output_type": "error",
     "traceback": [
      "\u001b[1;31m---------------------------------------------------------------------------\u001b[0m",
      "\u001b[1;31mNameError\u001b[0m                                 Traceback (most recent call last)",
      "Input \u001b[1;32mIn [3]\u001b[0m, in \u001b[0;36m<cell line: 1>\u001b[1;34m()\u001b[0m\n\u001b[1;32m----> 1\u001b[0m x2\u001b[38;5;241m=\u001b[39m\u001b[43mnp\u001b[49m\u001b[38;5;241m.\u001b[39marray[[\u001b[38;5;241m10\u001b[39m,\u001b[38;5;241m20\u001b[39m,\u001b[38;5;241m30\u001b[39m],[\u001b[38;5;241m10\u001b[39m,\u001b[38;5;241m20\u001b[39m,\u001b[38;5;241m30\u001b[39m,\u001b[38;5;241m40\u001b[39m]]\n",
      "\u001b[1;31mNameError\u001b[0m: name 'np' is not defined"
     ]
    }
   ],
   "source": [
    "\n",
    "x2=np.array[[10,20,30],[10,20,30,40]]\n"
   ]
  },
  {
   "cell_type": "code",
   "execution_count": null,
   "metadata": {},
   "outputs": [],
   "source": []
  }
 ],
 "metadata": {
  "colab": {
   "collapsed_sections": [],
   "provenance": [],
   "toc_visible": true
  },
  "kernelspec": {
   "display_name": "Python 3 (ipykernel)",
   "language": "python",
   "name": "python3"
  },
  "language_info": {
   "codemirror_mode": {
    "name": "ipython",
    "version": 3
   },
   "file_extension": ".py",
   "mimetype": "text/x-python",
   "name": "python",
   "nbconvert_exporter": "python",
   "pygments_lexer": "ipython3",
   "version": "3.9.12"
  }
 },
 "nbformat": 4,
 "nbformat_minor": 1
}
