{
 "cells": [
  {
   "cell_type": "code",
   "execution_count": 3,
   "id": "ce32f701",
   "metadata": {},
   "outputs": [
    {
     "name": "stdout",
     "output_type": "stream",
     "text": [
      "Hello World\n"
     ]
    }
   ],
   "source": [
    "print(\"Hello World\")"
   ]
  },
  {
   "cell_type": "code",
   "execution_count": 7,
   "id": "a0dff3cb",
   "metadata": {},
   "outputs": [
    {
     "name": "stdout",
     "output_type": "stream",
     "text": [
      "Enter a number\n",
      "25\n",
      "The number is less than 50\n"
     ]
    }
   ],
   "source": [
    "print(\"Enter a number\")\n",
    "a=int(input())\n",
    "if a>50:\n",
    "    print(\"The number is greater than 50\")\n",
    "else:\n",
    "    print(\"The number is less than 50\")"
   ]
  },
  {
   "cell_type": "code",
   "execution_count": 8,
   "id": "0f5feeb9",
   "metadata": {},
   "outputs": [
    {
     "name": "stdout",
     "output_type": "stream",
     "text": [
      "[4, 16]\n"
     ]
    }
   ],
   "source": [
    "nums=[1,2,3,4,5]\n",
    "evensquares = [x**2 for x in nums if x%2==0]\n",
    "print(evensquares)"
   ]
  },
  {
   "cell_type": "code",
   "execution_count": 27,
   "id": "c51cacbc",
   "metadata": {},
   "outputs": [
    {
     "name": "stdout",
     "output_type": "stream",
     "text": [
      "[1, 2, 3, 4, 5, 6, 7, 8, 9, 10, 11, 12, 13, 14, 15, 16, 17, 18, 19, 20, 21, 22, 23, 24]\n"
     ]
    }
   ],
   "source": [
    "a=range(1,25)\n",
    "print(list(a[::]))"
   ]
  },
  {
   "cell_type": "code",
   "execution_count": 30,
   "id": "1f8a39a0",
   "metadata": {},
   "outputs": [],
   "source": [
    "dict={}\n",
    "dict[\"hi\"]=\"1\"\n",
    "dict[\"hello\"]=\"5\""
   ]
  },
  {
   "cell_type": "code",
   "execution_count": 31,
   "id": "690315e0",
   "metadata": {
    "scrolled": true
   },
   "outputs": [
    {
     "name": "stdout",
     "output_type": "stream",
     "text": [
      "{'hi': '1', 'hello': '5'}\n"
     ]
    }
   ],
   "source": [
    "print(dict)"
   ]
  },
  {
   "cell_type": "markdown",
   "id": "887656d2",
   "metadata": {},
   "source": [
    "a.shape A tuple giving the size of array along each direction\n",
    "##\n",
    "a.rank number of dimensions"
   ]
  },
  {
   "cell_type": "code",
   "execution_count": 34,
   "id": "856276bc",
   "metadata": {},
   "outputs": [],
   "source": [
    "import numpy as np1\n",
    "arr=np1.array([4,5,6])"
   ]
  },
  {
   "cell_type": "code",
   "execution_count": null,
   "id": "40987e89",
   "metadata": {},
   "outputs": [],
   "source": []
  }
 ],
 "metadata": {
  "kernelspec": {
   "display_name": "Python 3 (ipykernel)",
   "language": "python",
   "name": "python3"
  },
  "language_info": {
   "codemirror_mode": {
    "name": "ipython",
    "version": 3
   },
   "file_extension": ".py",
   "mimetype": "text/x-python",
   "name": "python",
   "nbconvert_exporter": "python",
   "pygments_lexer": "ipython3",
   "version": "3.9.12"
  }
 },
 "nbformat": 4,
 "nbformat_minor": 5
}
